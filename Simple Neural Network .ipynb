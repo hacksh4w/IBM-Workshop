{
 "cells": [
  {
   "cell_type": "markdown",
   "metadata": {},
   "source": [
    "## Neural Network"
   ]
  },
  {
   "cell_type": "code",
   "execution_count": 1,
   "metadata": {
    "colab": {},
    "colab_type": "code",
    "id": "yulT4-ACt351"
   },
   "outputs": [],
   "source": [
    "import numpy as np"
   ]
  },
  {
   "cell_type": "code",
   "execution_count": 2,
   "metadata": {
    "colab": {},
    "colab_type": "code",
    "id": "LxZuEyzCv0p-"
   },
   "outputs": [],
   "source": [
    "input_samples = np.array([[1,0,1],[1,1,1],[0,1,0],[0,1,1]])\n",
    "output_samples = np.array([[1],[1],[0],[0]])"
   ]
  },
  {
   "cell_type": "code",
   "execution_count": 3,
   "metadata": {
    "colab": {},
    "colab_type": "code",
    "id": "uTxTFhQtwCIP"
   },
   "outputs": [
    {
     "data": {
      "text/plain": [
       "array([[1, 0, 1],\n",
       "       [1, 1, 1],\n",
       "       [0, 1, 0],\n",
       "       [0, 1, 1]])"
      ]
     },
     "execution_count": 3,
     "metadata": {},
     "output_type": "execute_result"
    }
   ],
   "source": [
    "input_samples"
   ]
  },
  {
   "cell_type": "code",
   "execution_count": 4,
   "metadata": {
    "colab": {},
    "colab_type": "code",
    "id": "WA8AKgO5wE2W"
   },
   "outputs": [
    {
     "data": {
      "text/plain": [
       "array([[1],\n",
       "       [1],\n",
       "       [0],\n",
       "       [0]])"
      ]
     },
     "execution_count": 4,
     "metadata": {},
     "output_type": "execute_result"
    }
   ],
   "source": [
    "output_samples"
   ]
  },
  {
   "cell_type": "code",
   "execution_count": 5,
   "metadata": {
    "colab": {
     "base_uri": "https://localhost:8080/",
     "height": 67
    },
    "colab_type": "code",
    "executionInfo": {
     "elapsed": 917,
     "status": "ok",
     "timestamp": 1590727818644,
     "user": {
      "displayName": "Umang Kejriwal",
      "photoUrl": "https://lh3.googleusercontent.com/a-/AOh14Gj76Gl6jqgff6ujv0NxoHqUfAaP6_V6lg4K5Hr5-A=s64",
      "userId": "06922987637552890318"
     },
     "user_tz": -330
    },
    "id": "YLb9ADSmwGFU",
    "outputId": "3c8ac951-dcf4-4e25-ef02-e5a5c596a42e"
   },
   "outputs": [
    {
     "data": {
      "text/plain": [
       "array([[0.77132064],\n",
       "       [0.02075195],\n",
       "       [0.63364823]])"
      ]
     },
     "execution_count": 5,
     "metadata": {},
     "output_type": "execute_result"
    }
   ],
   "source": [
    "#### Weights\n",
    "np.random.seed(10)\n",
    "weights = np.random.random((3,1))\n",
    "weights"
   ]
  },
  {
   "cell_type": "code",
   "execution_count": 6,
   "metadata": {
    "colab": {
     "base_uri": "https://localhost:8080/",
     "height": 84
    },
    "colab_type": "code",
    "executionInfo": {
     "elapsed": 884,
     "status": "ok",
     "timestamp": 1590727979321,
     "user": {
      "displayName": "Umang Kejriwal",
      "photoUrl": "https://lh3.googleusercontent.com/a-/AOh14Gj76Gl6jqgff6ujv0NxoHqUfAaP6_V6lg4K5Hr5-A=s64",
      "userId": "06922987637552890318"
     },
     "user_tz": -330
    },
    "id": "oCiB_yjww_5v",
    "outputId": "7524f0b4-f9e3-47bf-be8d-ef5b870167d3"
   },
   "outputs": [
    {
     "data": {
      "text/plain": [
       "array([[1.42496888],\n",
       "       [1.44572083],\n",
       "       [0.04075195],\n",
       "       [0.67440018]])"
      ]
     },
     "execution_count": 6,
     "metadata": {},
     "output_type": "execute_result"
    }
   ],
   "source": [
    "sum = 0.02 + np.dot(input_samples,weights)\n",
    "sum"
   ]
  },
  {
   "cell_type": "code",
   "execution_count": 7,
   "metadata": {
    "colab": {},
    "colab_type": "code",
    "id": "eZ5Z1Helxqzl"
   },
   "outputs": [],
   "source": [
    "### creating activation function (sigmoid)\n",
    "def activation(x):   \n",
    "  return 1 / ( 1 + np.exp(-x))"
   ]
  },
  {
   "cell_type": "code",
   "execution_count": 16,
   "metadata": {
    "colab": {
     "base_uri": "https://localhost:8080/",
     "height": 84
    },
    "colab_type": "code",
    "executionInfo": {
     "elapsed": 933,
     "status": "ok",
     "timestamp": 1590728428190,
     "user": {
      "displayName": "Umang Kejriwal",
      "photoUrl": "https://lh3.googleusercontent.com/a-/AOh14Gj76Gl6jqgff6ujv0NxoHqUfAaP6_V6lg4K5Hr5-A=s64",
      "userId": "06922987637552890318"
     },
     "user_tz": -330
    },
    "id": "P6AqI2upyiGp",
    "outputId": "87b392d7-d634-4936-d52e-64527b8aa080"
   },
   "outputs": [
    {
     "data": {
      "text/plain": [
       "array([[0.8061162 ],\n",
       "       [0.80933899],\n",
       "       [0.51018658],\n",
       "       [0.66248773]])"
      ]
     },
     "execution_count": 16,
     "metadata": {},
     "output_type": "execute_result"
    }
   ],
   "source": [
    "predicted_output = activation(sum)\n",
    "predicted_output"
   ]
  },
  {
   "cell_type": "code",
   "execution_count": 17,
   "metadata": {
    "colab": {},
    "colab_type": "code",
    "id": "Gki897SQzYZG"
   },
   "outputs": [
    {
     "data": {
      "text/plain": [
       "array([[ 0.1938838 ],\n",
       "       [ 0.19066101],\n",
       "       [-0.51018658],\n",
       "       [-0.66248773]])"
      ]
     },
     "execution_count": 17,
     "metadata": {},
     "output_type": "execute_result"
    }
   ],
   "source": [
    "sum = 0.02 + np.dot(input_samples,weights)\n",
    "predicted_output = activation(sum)\n",
    "error = output_samples - predicted_output\n",
    "error"
   ]
  },
  {
   "cell_type": "code",
   "execution_count": 18,
   "metadata": {
    "colab": {},
    "colab_type": "code",
    "id": "7afAzRFO0ZvT"
   },
   "outputs": [],
   "source": [
    "def gradient(x):\n",
    "  return x * (1-x)"
   ]
  },
  {
   "cell_type": "code",
   "execution_count": 21,
   "metadata": {
    "colab": {},
    "colab_type": "code",
    "id": "ejFNS9dh06R8"
   },
   "outputs": [
    {
     "data": {
      "text/plain": [
       "array([[ 0.19840629],\n",
       "       [ 0.2367044 ],\n",
       "       [-0.44881698],\n",
       "       [-0.58413931]])"
      ]
     },
     "execution_count": 21,
     "metadata": {},
     "output_type": "execute_result"
    }
   ],
   "source": [
    "sum = 0.02 + np.dot(input_samples,weights)\n",
    "predicted_output = activation(sum)\n",
    "error = output_samples - predicted_output\n",
    "adjustment = error * gradient(predicted_output)   ### gradient descent\n",
    "weights += np.dot(input_samples.T,adjustment) # changing the  previous weight to the new weight\n",
    "error"
   ]
  },
  {
   "cell_type": "code",
   "execution_count": 14,
   "metadata": {},
   "outputs": [
    {
     "data": {
      "text/plain": [
       "(4, 3)"
      ]
     },
     "execution_count": 14,
     "metadata": {},
     "output_type": "execute_result"
    }
   ],
   "source": [
    "input_samples.shape # justification for taking the transpose"
   ]
  },
  {
   "cell_type": "code",
   "execution_count": 20,
   "metadata": {},
   "outputs": [
    {
     "data": {
      "text/plain": [
       "(4, 1)"
      ]
     },
     "execution_count": 20,
     "metadata": {},
     "output_type": "execute_result"
    }
   ],
   "source": [
    "adjustment.shape"
   ]
  },
  {
   "cell_type": "code",
   "execution_count": 12,
   "metadata": {
    "colab": {
     "base_uri": "https://localhost:8080/",
     "height": 34
    },
    "colab_type": "code",
    "executionInfo": {
     "elapsed": 1436,
     "status": "ok",
     "timestamp": 1590728993774,
     "user": {
      "displayName": "Umang Kejriwal",
      "photoUrl": "https://lh3.googleusercontent.com/a-/AOh14Gj76Gl6jqgff6ujv0NxoHqUfAaP6_V6lg4K5Hr5-A=s64",
      "userId": "06922987637552890318"
     },
     "user_tz": -330
    },
    "id": "iKqA3Aap1VMH",
    "outputId": "e2e03c77-54bb-4cb5-a9b2-0fe6a3dd5a34"
   },
   "outputs": [
    {
     "data": {
      "text/plain": [
       "(3, 4)"
      ]
     },
     "execution_count": 12,
     "metadata": {},
     "output_type": "execute_result"
    }
   ],
   "source": [
    "input_samples.T.shape #we take the transpose T because input sample shape is (4,3). So to multiply with adjustment of shape (4,1)"
   ]
  },
  {
   "cell_type": "code",
   "execution_count": 13,
   "metadata": {
    "colab": {
     "base_uri": "https://localhost:8080/",
     "height": 34
    },
    "colab_type": "code",
    "executionInfo": {
     "elapsed": 1106,
     "status": "ok",
     "timestamp": 1590728961212,
     "user": {
      "displayName": "Umang Kejriwal",
      "photoUrl": "https://lh3.googleusercontent.com/a-/AOh14Gj76Gl6jqgff6ujv0NxoHqUfAaP6_V6lg4K5Hr5-A=s64",
      "userId": "06922987637552890318"
     },
     "user_tz": -330
    },
    "id": "GnpUsOa31YHc",
    "outputId": "2e082db1-c31c-41a6-de4f-67ac4f97c64e"
   },
   "outputs": [
    {
     "data": {
      "text/plain": [
       "(4, 1)"
      ]
     },
     "execution_count": 13,
     "metadata": {},
     "output_type": "execute_result"
    }
   ],
   "source": [
    "adjustment.shape"
   ]
  },
  {
   "cell_type": "code",
   "execution_count": 22,
   "metadata": {
    "colab": {
     "base_uri": "https://localhost:8080/",
     "height": 84
    },
    "colab_type": "code",
    "executionInfo": {
     "elapsed": 1047,
     "status": "ok",
     "timestamp": 1590729337965,
     "user": {
      "displayName": "Umang Kejriwal",
      "photoUrl": "https://lh3.googleusercontent.com/a-/AOh14Gj76Gl6jqgff6ujv0NxoHqUfAaP6_V6lg4K5Hr5-A=s64",
      "userId": "06922987637552890318"
     },
     "user_tz": -330
    },
    "id": "aZWrhS6O1aUH",
    "outputId": "e778648f-77e7-44a8-c248-24f70f5f2dbc"
   },
   "outputs": [
    {
     "data": {
      "text/plain": [
       "array([[ 0.00079506],\n",
       "       [ 0.03362751],\n",
       "       [-0.02279628],\n",
       "       [-0.03394494]])"
      ]
     },
     "execution_count": 22,
     "metadata": {},
     "output_type": "execute_result"
    }
   ],
   "source": [
    "for i in range(1000):\n",
    "  sum = 0.02 + np.dot(input_samples,weights)\n",
    "  predicted_output = activation(sum)\n",
    "  error = output_samples - predicted_output\n",
    "  adjustment = error * gradient(predicted_output)   ### gradient descent\n",
    "  weights += np.dot(input_samples.T,adjustment)\n",
    "error"
   ]
  },
  {
   "cell_type": "code",
   "execution_count": 23,
   "metadata": {
    "colab": {
     "base_uri": "https://localhost:8080/",
     "height": 84
    },
    "colab_type": "code",
    "executionInfo": {
     "elapsed": 897,
     "status": "ok",
     "timestamp": 1590729367490,
     "user": {
      "displayName": "Umang Kejriwal",
      "photoUrl": "https://lh3.googleusercontent.com/a-/AOh14Gj76Gl6jqgff6ujv0NxoHqUfAaP6_V6lg4K5Hr5-A=s64",
      "userId": "06922987637552890318"
     },
     "user_tz": -330
    },
    "id": "sbp0Vue72yv9",
    "outputId": "d0e4dfae-d943-4f6c-c006-ad2184ca73ed"
   },
   "outputs": [
    {
     "data": {
      "text/plain": [
       "array([[1.],\n",
       "       [1.],\n",
       "       [0.],\n",
       "       [0.]])"
      ]
     },
     "execution_count": 23,
     "metadata": {},
     "output_type": "execute_result"
    }
   ],
   "source": [
    "predicted_output.round()"
   ]
  },
  {
   "cell_type": "code",
   "execution_count": 0,
   "metadata": {
    "colab": {},
    "colab_type": "code",
    "id": "R1rLQ5as27Kn"
   },
   "outputs": [],
   "source": []
  }
 ],
 "metadata": {
  "colab": {
   "authorship_tag": "ABX9TyP5m9+2aVU3AuYS8t6XaZN4",
   "collapsed_sections": [],
   "name": "Day 5_1 - Simple Neural Network From Scratch.ipynb",
   "provenance": []
  },
  "kernelspec": {
   "display_name": "Python 3 (ipykernel)",
   "language": "python",
   "name": "python3"
  },
  "language_info": {
   "codemirror_mode": {
    "name": "ipython",
    "version": 3
   },
   "file_extension": ".py",
   "mimetype": "text/x-python",
   "name": "python",
   "nbconvert_exporter": "python",
   "pygments_lexer": "ipython3",
   "version": "3.9.13"
  }
 },
 "nbformat": 4,
 "nbformat_minor": 1
}
