{
 "cells": [
  {
   "cell_type": "markdown",
   "id": "2aa368d9-75a8-4b9f-96e7-56361b91faa6",
   "metadata": {},
   "source": [
    "AI  > ML > Deep Learning > Neural Networks"
   ]
  },
  {
   "cell_type": "markdown",
   "id": "82e63f11-c810-43d5-97f3-c4e0b8a7f786",
   "metadata": {},
   "source": [
    "## Str of Neural Network (ANN)\n",
    "### 3 Layers =>\n",
    "- Input Layer : Data inputed to NN; Each Circle represents one feature (a piece of info); Circles mean's variables / data set fed into it\n",
    "- Hidden layer 1 & 2 : processing\n",
    "- Output layer : Result\n",
    "* Perceptron : No Hidden layer; Direct from input to Output ; Linear classifier; has many limitations \n",
    " \n",
    "#### Comparison with Neuron :-\n",
    "* Dendrite : refers to input \n",
    "* Axon : output delivered thru axon\n",
    "    - width of dendrites define the weight associated with it\n",
    " \n",
    "### ANN\n",
    "- X1, X2 .... <= Input Layer\n",
    "-  S =  Σ X<sub>i</sub> W<sub>i</sub>\n",
    "    - combinaions of X and W based on path for each prticular layer\n",
    "- Hidden Layer : H1, H2, ...\n",
    "- Wi <==> Weights  \n",
    "- Bias  : less than 1; B1, B2, ...\n",
    "- Activation with sigmoid fn => The output for a single layer (process of forward propagation)\n",
    "- Z ==> S + bias\n",
    "- Sigmoid Fn : $$ x = { 1 \\over 1+ e<sup>-z</sup>} $$\n",
    " - Compre resulatant of ouput with Original value (given); if they are same, procedure can be stopped; if not we apply baclkward propation for updating weights\n",
    "- Gradient--- procedure => uses derivations/ differential calc\n",
    "- Manual process takes more than an 1hr\n",
    "- Steps :\n",
    "    1. Get Inputs X1, X2, X3 ...\n",
    "    2. Compute S, add bias to get Z\n",
    "    3. Apply activation with sigmoid fn; marks end of forward propagation; to get resultant output\n",
    "    4. Loop begins\n",
    "    5. Updation of Weights : Checking as mentioned above\n",
    "    - if found dissimilar; apply backpropagation until target value == output value\n",
    "    6. Terminate Process\n",
    "\n",
    "### Note : \n",
    "- RBM & Autoencoders\n",
    "- DNN is ANN with multiple hidden layers\n",
    "- CNN for image\n",
    "- RNN for sequential data\n",
    "    - LSD, GRU, Gated RNN, Noturn encoders\n",
    "    - Vanishing gradient, exploding gradient\n",
    "- Multilayer Perceptron == Deep Feedforward network === feedforward neural network\n",
    "- z == linear regression; activation formular from logistical\n",
    "- ANN - speech recognition, anomaly detection, audio generation, spell check\n",
    "- \n"
   ]
  },
  {
   "cell_type": "markdown",
   "id": "466951ce-7be0-4fe9-b456-2ad0052f19d1",
   "metadata": {},
   "source": []
  },
  {
   "cell_type": "code",
   "execution_count": null,
   "id": "71f1964d-64ee-4afc-89fc-9afaf37cf7f1",
   "metadata": {},
   "outputs": [],
   "source": []
  }
 ],
 "metadata": {
  "kernelspec": {
   "display_name": "Python 3 (ipykernel)",
   "language": "python",
   "name": "python3"
  },
  "language_info": {
   "codemirror_mode": {
    "name": "ipython",
    "version": 3
   },
   "file_extension": ".py",
   "mimetype": "text/x-python",
   "name": "python",
   "nbconvert_exporter": "python",
   "pygments_lexer": "ipython3",
   "version": "3.11.3"
  }
 },
 "nbformat": 4,
 "nbformat_minor": 5
}
