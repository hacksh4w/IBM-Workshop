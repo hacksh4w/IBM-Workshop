{
 "cells": [
  {
   "cell_type": "code",
   "execution_count": null,
   "id": "23cadd2f-2b48-4449-95a3-43550e1445c2",
   "metadata": {},
   "outputs": [],
   "source": []
  },
  {
   "cell_type": "markdown",
   "id": "4739222e-a25d-4aed-91d4-e03b537f4218",
   "metadata": {},
   "source": [
    "# Before Deep Learning \n",
    "    - Thorough study of Traditional ML Techniques & Algo's, Regression\n",
    "    - GYAN, CNN, RNN Project\n",
    "\n",
    "\n",
    "## To Check Out\n",
    "    - Statistical Modelling, Labelled Data, Clustering (Unsupervised Learning - ) \n",
    "    - a\n",
    "    \n",
    "    \n",
    "    \n",
    "### Trivia \n",
    "    - In Supervised Learning, the data is the supervisor; Has labelled Data\n",
    "    - In Unsupervised Learning, although it may begin with unstructured data, the data has to first be structured for further operations\n",
    "    \n",
    "    "
   ]
  }
 ],
 "metadata": {
  "kernelspec": {
   "display_name": "Python 3 (ipykernel)",
   "language": "python",
   "name": "python3"
  },
  "language_info": {
   "codemirror_mode": {
    "name": "ipython",
    "version": 3
   },
   "file_extension": ".py",
   "mimetype": "text/x-python",
   "name": "python",
   "nbconvert_exporter": "python",
   "pygments_lexer": "ipython3",
   "version": "3.11.3"
  }
 },
 "nbformat": 4,
 "nbformat_minor": 5
}
