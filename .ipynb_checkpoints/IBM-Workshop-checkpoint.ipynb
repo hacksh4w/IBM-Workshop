{
 "cells": [
  {
   "cell_type": "markdown",
   "id": "175d1775-45bd-4b6c-8230-5826d90b8734",
   "metadata": {},
   "source": [
    "important points\n",
    "- regression, linear regression, support vector machine??, Gyan, CNN, RNN\n",
    "- Machine learning model can be a mathematical representation of a real world process\n",
    "- Artificial Intelligence ⊇ Machine Learning ⊇ Deep Learning\n",
    "- Supervised, Unsupervised, (Semi-supervised), Reinforcement Learning\n",
    "- Supervised Learning => data with label \n",
    "- Unsupervised Learning => data without label, but dividing data into clusters in which 1 cluster share similar properties from within \n",
    "- Market/Basket Analysis !!, Association technique in contrast with clustering technique in Unsupervised Learning \n",
    "- Apriori Algorithm uses conditional probability, check it out\n",
    "- Supervised Learning\n",
    "    - Classification, \n",
    "    - Regression (used only if the output is numerical, quantitative data) "
   ]
  },
  {
   "cell_type": "markdown",
   "id": "53963448-11c7-445e-b8ac-4754e3d044d4",
   "metadata": {},
   "source": [
    "# Linear Regression"
   ]
  },
  {
   "cell_type": "markdown",
   "id": "538e0340-020e-4301-bbf2-94dc94dbae46",
   "metadata": {},
   "source": [
    "- Correlation helps to check whether two variable are related or not, if they are they identityf the type and degree \n",
    "- Regression helps to retrieve the exact mathematical correlation between the two variables\n",
    "- Simple Linear Regression \n",
    "    - y = l + mx\n",
    "    - l and m found by regression models \n",
    "    - y is the dependent and x is the independent \n",
    "- Multiple Linear Regression \n",
    "    - y = k0 + k1x1 + k2x2 + .... + knxn\n",
    "    - more than one independent variable"
   ]
  },
  {
   "cell_type": "code",
   "execution_count": null,
   "id": "4d767f06-1780-4085-81ba-3877b7d9ba80",
   "metadata": {},
   "outputs": [],
   "source": []
  }
 ],
 "metadata": {
  "kernelspec": {
   "display_name": "Python 3 (ipykernel)",
   "language": "python",
   "name": "python3"
  },
  "language_info": {
   "codemirror_mode": {
    "name": "ipython",
    "version": 3
   },
   "file_extension": ".py",
   "mimetype": "text/x-python",
   "name": "python",
   "nbconvert_exporter": "python",
   "pygments_lexer": "ipython3",
   "version": "3.11.2"
  }
 },
 "nbformat": 4,
 "nbformat_minor": 5
}
