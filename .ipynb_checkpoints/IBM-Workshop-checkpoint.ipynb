{
 "cells": [
  {
   "cell_type": "markdown",
   "id": "175d1775-45bd-4b6c-8230-5826d90b8734",
   "metadata": {},
   "source": [
    "important points\n",
    "- regression, linear regression, support vector machine??, Gyan, CNN, RNN\n",
    "- Machine learning model can be a mathematical representation of a real world process\n",
    "- Artificial Intelligence ⊇ Machine Learning ⊇ Deep Learning\n",
    "- Supervised, Unsupervised, (Semi-supervised), Reinforcement Learning\n",
    "- Supervised Learning => data with label \n",
    "- Unsupervised Learning => data without label, but dividing data into clusters in which 1 cluster share similar properties from within \n",
    "- Market/Basket Analysis !!, Association technique in contrast with clustering technique in Unsupervised Learning \n",
    "- "
   ]
  },
  {
   "cell_type": "code",
   "execution_count": null,
   "id": "ac4a5685-7b89-4145-801e-05c7f7e378c9",
   "metadata": {},
   "outputs": [],
   "source": []
  }
 ],
 "metadata": {
  "kernelspec": {
   "display_name": "Python 3 (ipykernel)",
   "language": "python",
   "name": "python3"
  },
  "language_info": {
   "codemirror_mode": {
    "name": "ipython",
    "version": 3
   },
   "file_extension": ".py",
   "mimetype": "text/x-python",
   "name": "python",
   "nbconvert_exporter": "python",
   "pygments_lexer": "ipython3",
   "version": "3.11.2"
  }
 },
 "nbformat": 4,
 "nbformat_minor": 5
}
