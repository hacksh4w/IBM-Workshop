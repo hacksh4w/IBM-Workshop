{
 "cells": [
  {
   "cell_type": "markdown",
   "id": "175d1775-45bd-4b6c-8230-5826d90b8734",
   "metadata": {},
   "source": [
    "important points\n",
    "- regression, linear regression, support vector machine??, Gyan, CNN, RNN\n",
    "- Machine learning model can be a mathematical representation of a real world process\n",
    "- Artificial Intelligence ⊇ Machine Learning ⊇ Deep Learning\n",
    "- Supervised, Unsupervised, (Semi-supervised), Reinforcement Learning\n",
    "- Supervised Learning => data with label \n",
    "- Unsupervised Learning => data without label, but dividing data into clusters in which 1 cluster share similar properties from within \n",
    "- Market/Basket Analysis !!, Association technique in contrast with clustering technique in Unsupervised Learning \n",
    "- Apriori Algorithm uses conditional probability, check it out\n",
    "- Supervised Learning\n",
    "    - Classification, \n",
    "    - Regression (used only if the output is numerical, quantitative data) "
   ]
  },
  {
   "cell_type": "markdown",
   "id": "53963448-11c7-445e-b8ac-4754e3d044d4",
   "metadata": {},
   "source": [
    "# Linear Regression"
   ]
  },
  {
   "cell_type": "markdown",
   "id": "538e0340-020e-4301-bbf2-94dc94dbae46",
   "metadata": {},
   "source": [
    "- Correlation helps to check whether two variable are related or not, if they are they identityf the type and degree \n",
    "- Regression helps to retrieve the exact mathematical correlation between the two variables\n",
    "- Simple Linear Regression \n",
    "    - y = l + mx\n",
    "    - l and m found by regression models \n",
    "    - y is the dependent and x is the independent \n",
    "- Multiple Linear Regression \n",
    "    - y = k0 + k1x1 + k2x2 + .... + knxn\n",
    "    - more than one independent variable\n",
    "- Replace missing values in data field by the average value of that coulumn by the method (for numerical values only):\n",
    "    - `pandas_object.fillna(mean/mode/median of that column, inplaces=True)` !check for validation\n",
    "- To detect outliers, the easiest way is to make a boxplot. It is very important to remove outliers\n",
    "- Check more about residual and error analysis \n",
    "- In any statistical method, if P value is less than 0.05, we reject the hypothesis ???\n",
    "- There are many methods under cross validation, one method is Leave-one-out\n",
    "    - make a model by removing 1st 4 values and predict all the necessary stuff\n",
    "    - Make a 2nd model by removing 2nd 4 values and predict all the necessary stuff \n",
    "    - continue the process \n",
    "    - We get 4 models\n",
    "    - if the average of rmes value of 4 models is better than original value, then we take the cross validation model for future use"
   ]
  },
  {
   "cell_type": "markdown",
   "id": "e67f845a-9046-44de-9a76-cee3a8554199",
   "metadata": {},
   "source": [
    "## Developing a model to predict yield based on input temperature and time\n",
    "Note: y(yield) = k1 + k2(Time) + k2(Temperature)"
   ]
  },
  {
   "cell_type": "code",
   "execution_count": 56,
   "id": "d7508ed0-20ee-45e3-8636-28a80bfd7eac",
   "metadata": {
    "tags": []
   },
   "outputs": [],
   "source": [
    "import pandas as mypd\n",
    "import matplotlib.pyplot as plt\n",
    "import seaborn as mysb\n",
    "from sklearn.linear_model import LinearRegression\n",
    "from sklearn.metrics import mean_squared_error\n",
    "from sklearn.model_selection import cross_val_score"
   ]
  },
  {
   "cell_type": "markdown",
   "id": "5de8a21e-59c2-460d-a658-1756389e5ac7",
   "metadata": {},
   "source": [
    "#### Cross Validation (cross_val_score)\n",
    "- Leaving out different sets of data and training models based on the left out sets, taking the average of the score and if it is better than the original then we can proceed with the latest one instead of the original"
   ]
  },
  {
   "cell_type": "code",
   "execution_count": 57,
   "id": "74025a3f-e80c-4ae7-965b-aeae9a79a186",
   "metadata": {
    "tags": []
   },
   "outputs": [
    {
     "data": {
      "text/html": [
       "<div>\n",
       "<style scoped>\n",
       "    .dataframe tbody tr th:only-of-type {\n",
       "        vertical-align: middle;\n",
       "    }\n",
       "\n",
       "    .dataframe tbody tr th {\n",
       "        vertical-align: top;\n",
       "    }\n",
       "\n",
       "    .dataframe thead th {\n",
       "        text-align: right;\n",
       "    }\n",
       "</style>\n",
       "<table border=\"1\" class=\"dataframe\">\n",
       "  <thead>\n",
       "    <tr style=\"text-align: right;\">\n",
       "      <th></th>\n",
       "      <th>Time</th>\n",
       "      <th>Temperature</th>\n",
       "      <th>Yield</th>\n",
       "    </tr>\n",
       "  </thead>\n",
       "  <tbody>\n",
       "    <tr>\n",
       "      <th>0</th>\n",
       "      <td>130</td>\n",
       "      <td>190</td>\n",
       "      <td>35.0</td>\n",
       "    </tr>\n",
       "    <tr>\n",
       "      <th>1</th>\n",
       "      <td>174</td>\n",
       "      <td>176</td>\n",
       "      <td>81.7</td>\n",
       "    </tr>\n",
       "    <tr>\n",
       "      <th>2</th>\n",
       "      <td>134</td>\n",
       "      <td>205</td>\n",
       "      <td>42.5</td>\n",
       "    </tr>\n",
       "    <tr>\n",
       "      <th>3</th>\n",
       "      <td>191</td>\n",
       "      <td>210</td>\n",
       "      <td>98.3</td>\n",
       "    </tr>\n",
       "    <tr>\n",
       "      <th>4</th>\n",
       "      <td>165</td>\n",
       "      <td>230</td>\n",
       "      <td>52.7</td>\n",
       "    </tr>\n",
       "    <tr>\n",
       "      <th>5</th>\n",
       "      <td>194</td>\n",
       "      <td>192</td>\n",
       "      <td>82.0</td>\n",
       "    </tr>\n",
       "    <tr>\n",
       "      <th>6</th>\n",
       "      <td>143</td>\n",
       "      <td>220</td>\n",
       "      <td>34.5</td>\n",
       "    </tr>\n",
       "    <tr>\n",
       "      <th>7</th>\n",
       "      <td>186</td>\n",
       "      <td>235</td>\n",
       "      <td>95.4</td>\n",
       "    </tr>\n",
       "    <tr>\n",
       "      <th>8</th>\n",
       "      <td>139</td>\n",
       "      <td>240</td>\n",
       "      <td>56.7</td>\n",
       "    </tr>\n",
       "    <tr>\n",
       "      <th>9</th>\n",
       "      <td>188</td>\n",
       "      <td>230</td>\n",
       "      <td>84.4</td>\n",
       "    </tr>\n",
       "    <tr>\n",
       "      <th>10</th>\n",
       "      <td>175</td>\n",
       "      <td>200</td>\n",
       "      <td>94.3</td>\n",
       "    </tr>\n",
       "    <tr>\n",
       "      <th>11</th>\n",
       "      <td>156</td>\n",
       "      <td>218</td>\n",
       "      <td>44.3</td>\n",
       "    </tr>\n",
       "    <tr>\n",
       "      <th>12</th>\n",
       "      <td>190</td>\n",
       "      <td>220</td>\n",
       "      <td>83.3</td>\n",
       "    </tr>\n",
       "    <tr>\n",
       "      <th>13</th>\n",
       "      <td>178</td>\n",
       "      <td>210</td>\n",
       "      <td>91.4</td>\n",
       "    </tr>\n",
       "    <tr>\n",
       "      <th>14</th>\n",
       "      <td>132</td>\n",
       "      <td>208</td>\n",
       "      <td>43.5</td>\n",
       "    </tr>\n",
       "    <tr>\n",
       "      <th>15</th>\n",
       "      <td>148</td>\n",
       "      <td>225</td>\n",
       "      <td>51.7</td>\n",
       "    </tr>\n",
       "  </tbody>\n",
       "</table>\n",
       "</div>"
      ],
      "text/plain": [
       "    Time  Temperature  Yield\n",
       "0    130          190   35.0\n",
       "1    174          176   81.7\n",
       "2    134          205   42.5\n",
       "3    191          210   98.3\n",
       "4    165          230   52.7\n",
       "5    194          192   82.0\n",
       "6    143          220   34.5\n",
       "7    186          235   95.4\n",
       "8    139          240   56.7\n",
       "9    188          230   84.4\n",
       "10   175          200   94.3\n",
       "11   156          218   44.3\n",
       "12   190          220   83.3\n",
       "13   178          210   91.4\n",
       "14   132          208   43.5\n",
       "15   148          225   51.7"
      ]
     },
     "execution_count": 57,
     "metadata": {},
     "output_type": "execute_result"
    }
   ],
   "source": [
    "mydata = mypd.read_csv(\"Mult_Reg_Yield.csv\")\n",
    "mydata"
   ]
  },
  {
   "cell_type": "code",
   "execution_count": 58,
   "id": "32d96c98-25de-4df1-a6e5-79090137091a",
   "metadata": {
    "tags": []
   },
   "outputs": [
    {
     "data": {
      "text/html": [
       "<div>\n",
       "<style scoped>\n",
       "    .dataframe tbody tr th:only-of-type {\n",
       "        vertical-align: middle;\n",
       "    }\n",
       "\n",
       "    .dataframe tbody tr th {\n",
       "        vertical-align: top;\n",
       "    }\n",
       "\n",
       "    .dataframe thead th {\n",
       "        text-align: right;\n",
       "    }\n",
       "</style>\n",
       "<table border=\"1\" class=\"dataframe\">\n",
       "  <thead>\n",
       "    <tr style=\"text-align: right;\">\n",
       "      <th></th>\n",
       "      <th>Time</th>\n",
       "      <th>Temperature</th>\n",
       "      <th>Yield</th>\n",
       "    </tr>\n",
       "  </thead>\n",
       "  <tbody>\n",
       "    <tr>\n",
       "      <th>count</th>\n",
       "      <td>16.000000</td>\n",
       "      <td>16.000000</td>\n",
       "      <td>16.000000</td>\n",
       "    </tr>\n",
       "    <tr>\n",
       "      <th>mean</th>\n",
       "      <td>163.937500</td>\n",
       "      <td>213.062500</td>\n",
       "      <td>66.981250</td>\n",
       "    </tr>\n",
       "    <tr>\n",
       "      <th>std</th>\n",
       "      <td>23.450569</td>\n",
       "      <td>17.650189</td>\n",
       "      <td>23.705336</td>\n",
       "    </tr>\n",
       "    <tr>\n",
       "      <th>min</th>\n",
       "      <td>130.000000</td>\n",
       "      <td>176.000000</td>\n",
       "      <td>34.500000</td>\n",
       "    </tr>\n",
       "    <tr>\n",
       "      <th>25%</th>\n",
       "      <td>142.000000</td>\n",
       "      <td>203.750000</td>\n",
       "      <td>44.100000</td>\n",
       "    </tr>\n",
       "    <tr>\n",
       "      <th>50%</th>\n",
       "      <td>169.500000</td>\n",
       "      <td>214.000000</td>\n",
       "      <td>69.200000</td>\n",
       "    </tr>\n",
       "    <tr>\n",
       "      <th>75%</th>\n",
       "      <td>186.500000</td>\n",
       "      <td>226.250000</td>\n",
       "      <td>86.150000</td>\n",
       "    </tr>\n",
       "    <tr>\n",
       "      <th>max</th>\n",
       "      <td>194.000000</td>\n",
       "      <td>240.000000</td>\n",
       "      <td>98.300000</td>\n",
       "    </tr>\n",
       "  </tbody>\n",
       "</table>\n",
       "</div>"
      ],
      "text/plain": [
       "             Time  Temperature      Yield\n",
       "count   16.000000    16.000000  16.000000\n",
       "mean   163.937500   213.062500  66.981250\n",
       "std     23.450569    17.650189  23.705336\n",
       "min    130.000000   176.000000  34.500000\n",
       "25%    142.000000   203.750000  44.100000\n",
       "50%    169.500000   214.000000  69.200000\n",
       "75%    186.500000   226.250000  86.150000\n",
       "max    194.000000   240.000000  98.300000"
      ]
     },
     "execution_count": 58,
     "metadata": {},
     "output_type": "execute_result"
    }
   ],
   "source": [
    "#to check missing values\n",
    "mydata.describe()"
   ]
  },
  {
   "cell_type": "code",
   "execution_count": 59,
   "id": "5fb94c9f-8f6d-4a7e-b936-f03ef790e2dd",
   "metadata": {
    "tags": []
   },
   "outputs": [
    {
     "data": {
      "text/html": [
       "<div>\n",
       "<style scoped>\n",
       "    .dataframe tbody tr th:only-of-type {\n",
       "        vertical-align: middle;\n",
       "    }\n",
       "\n",
       "    .dataframe tbody tr th {\n",
       "        vertical-align: top;\n",
       "    }\n",
       "\n",
       "    .dataframe thead th {\n",
       "        text-align: right;\n",
       "    }\n",
       "</style>\n",
       "<table border=\"1\" class=\"dataframe\">\n",
       "  <thead>\n",
       "    <tr style=\"text-align: right;\">\n",
       "      <th></th>\n",
       "      <th>Time</th>\n",
       "      <th>Temperature</th>\n",
       "      <th>Yield</th>\n",
       "    </tr>\n",
       "  </thead>\n",
       "  <tbody>\n",
       "    <tr>\n",
       "      <th>0</th>\n",
       "      <td>130</td>\n",
       "      <td>190</td>\n",
       "      <td>35.0</td>\n",
       "    </tr>\n",
       "    <tr>\n",
       "      <th>1</th>\n",
       "      <td>174</td>\n",
       "      <td>176</td>\n",
       "      <td>81.7</td>\n",
       "    </tr>\n",
       "    <tr>\n",
       "      <th>2</th>\n",
       "      <td>134</td>\n",
       "      <td>205</td>\n",
       "      <td>42.5</td>\n",
       "    </tr>\n",
       "    <tr>\n",
       "      <th>3</th>\n",
       "      <td>191</td>\n",
       "      <td>210</td>\n",
       "      <td>98.3</td>\n",
       "    </tr>\n",
       "    <tr>\n",
       "      <th>4</th>\n",
       "      <td>165</td>\n",
       "      <td>230</td>\n",
       "      <td>52.7</td>\n",
       "    </tr>\n",
       "    <tr>\n",
       "      <th>5</th>\n",
       "      <td>194</td>\n",
       "      <td>192</td>\n",
       "      <td>82.0</td>\n",
       "    </tr>\n",
       "    <tr>\n",
       "      <th>6</th>\n",
       "      <td>143</td>\n",
       "      <td>220</td>\n",
       "      <td>34.5</td>\n",
       "    </tr>\n",
       "    <tr>\n",
       "      <th>7</th>\n",
       "      <td>186</td>\n",
       "      <td>235</td>\n",
       "      <td>95.4</td>\n",
       "    </tr>\n",
       "    <tr>\n",
       "      <th>8</th>\n",
       "      <td>139</td>\n",
       "      <td>240</td>\n",
       "      <td>56.7</td>\n",
       "    </tr>\n",
       "    <tr>\n",
       "      <th>9</th>\n",
       "      <td>188</td>\n",
       "      <td>230</td>\n",
       "      <td>84.4</td>\n",
       "    </tr>\n",
       "    <tr>\n",
       "      <th>10</th>\n",
       "      <td>175</td>\n",
       "      <td>200</td>\n",
       "      <td>94.3</td>\n",
       "    </tr>\n",
       "    <tr>\n",
       "      <th>11</th>\n",
       "      <td>156</td>\n",
       "      <td>218</td>\n",
       "      <td>44.3</td>\n",
       "    </tr>\n",
       "    <tr>\n",
       "      <th>12</th>\n",
       "      <td>190</td>\n",
       "      <td>220</td>\n",
       "      <td>83.3</td>\n",
       "    </tr>\n",
       "    <tr>\n",
       "      <th>13</th>\n",
       "      <td>178</td>\n",
       "      <td>210</td>\n",
       "      <td>91.4</td>\n",
       "    </tr>\n",
       "    <tr>\n",
       "      <th>14</th>\n",
       "      <td>132</td>\n",
       "      <td>208</td>\n",
       "      <td>43.5</td>\n",
       "    </tr>\n",
       "    <tr>\n",
       "      <th>15</th>\n",
       "      <td>148</td>\n",
       "      <td>225</td>\n",
       "      <td>51.7</td>\n",
       "    </tr>\n",
       "  </tbody>\n",
       "</table>\n",
       "</div>"
      ],
      "text/plain": [
       "    Time  Temperature  Yield\n",
       "0    130          190   35.0\n",
       "1    174          176   81.7\n",
       "2    134          205   42.5\n",
       "3    191          210   98.3\n",
       "4    165          230   52.7\n",
       "5    194          192   82.0\n",
       "6    143          220   34.5\n",
       "7    186          235   95.4\n",
       "8    139          240   56.7\n",
       "9    188          230   84.4\n",
       "10   175          200   94.3\n",
       "11   156          218   44.3\n",
       "12   190          220   83.3\n",
       "13   178          210   91.4\n",
       "14   132          208   43.5\n",
       "15   148          225   51.7"
      ]
     },
     "execution_count": 59,
     "metadata": {},
     "output_type": "execute_result"
    }
   ],
   "source": [
    "#delete rows with missing values\n",
    "mydata.dropna()"
   ]
  },
  {
   "cell_type": "code",
   "execution_count": 60,
   "id": "4859c5d8-d42a-4335-a405-c342f7833318",
   "metadata": {
    "tags": []
   },
   "outputs": [
    {
     "data": {
      "image/png": "[encoded data removed]",
      "text/plain": [
       "<Figure size 640x480 with 1 Axes>"
      ]
     },
     "metadata": {},
     "output_type": "display_data"
    }
   ],
   "source": [
    "#outlier detection by making boxplot\n",
    "plt.boxplot(mydata[\"Time\"])\n",
    "plt.title(\"Outlier Detection of time\")\n",
    "plt.show()"
   ]
  },
  {
   "cell_type": "code",
   "execution_count": 61,
   "id": "4571ae17-bcf6-49b4-8fa3-e182d25e02cb",
   "metadata": {
    "tags": []
   },
   "outputs": [
    {
     "data": {
      "text/html": [
       "<div>\n",
       "<style scoped>\n",
       "    .dataframe tbody tr th:only-of-type {\n",
       "        vertical-align: middle;\n",
       "    }\n",
       "\n",
       "    .dataframe tbody tr th {\n",
       "        vertical-align: top;\n",
       "    }\n",
       "\n",
       "    .dataframe thead th {\n",
       "        text-align: right;\n",
       "    }\n",
       "</style>\n",
       "<table border=\"1\" class=\"dataframe\">\n",
       "  <thead>\n",
       "    <tr style=\"text-align: right;\">\n",
       "      <th></th>\n",
       "      <th>Time</th>\n",
       "      <th>Temperature</th>\n",
       "    </tr>\n",
       "  </thead>\n",
       "  <tbody>\n",
       "    <tr>\n",
       "      <th>0</th>\n",
       "      <td>130</td>\n",
       "      <td>190</td>\n",
       "    </tr>\n",
       "    <tr>\n",
       "      <th>1</th>\n",
       "      <td>174</td>\n",
       "      <td>176</td>\n",
       "    </tr>\n",
       "    <tr>\n",
       "      <th>2</th>\n",
       "      <td>134</td>\n",
       "      <td>205</td>\n",
       "    </tr>\n",
       "    <tr>\n",
       "      <th>3</th>\n",
       "      <td>191</td>\n",
       "      <td>210</td>\n",
       "    </tr>\n",
       "    <tr>\n",
       "      <th>4</th>\n",
       "      <td>165</td>\n",
       "      <td>230</td>\n",
       "    </tr>\n",
       "    <tr>\n",
       "      <th>5</th>\n",
       "      <td>194</td>\n",
       "      <td>192</td>\n",
       "    </tr>\n",
       "    <tr>\n",
       "      <th>6</th>\n",
       "      <td>143</td>\n",
       "      <td>220</td>\n",
       "    </tr>\n",
       "    <tr>\n",
       "      <th>7</th>\n",
       "      <td>186</td>\n",
       "      <td>235</td>\n",
       "    </tr>\n",
       "    <tr>\n",
       "      <th>8</th>\n",
       "      <td>139</td>\n",
       "      <td>240</td>\n",
       "    </tr>\n",
       "    <tr>\n",
       "      <th>9</th>\n",
       "      <td>188</td>\n",
       "      <td>230</td>\n",
       "    </tr>\n",
       "    <tr>\n",
       "      <th>10</th>\n",
       "      <td>175</td>\n",
       "      <td>200</td>\n",
       "    </tr>\n",
       "    <tr>\n",
       "      <th>11</th>\n",
       "      <td>156</td>\n",
       "      <td>218</td>\n",
       "    </tr>\n",
       "    <tr>\n",
       "      <th>12</th>\n",
       "      <td>190</td>\n",
       "      <td>220</td>\n",
       "    </tr>\n",
       "    <tr>\n",
       "      <th>13</th>\n",
       "      <td>178</td>\n",
       "      <td>210</td>\n",
       "    </tr>\n",
       "    <tr>\n",
       "      <th>14</th>\n",
       "      <td>132</td>\n",
       "      <td>208</td>\n",
       "    </tr>\n",
       "    <tr>\n",
       "      <th>15</th>\n",
       "      <td>148</td>\n",
       "      <td>225</td>\n",
       "    </tr>\n",
       "  </tbody>\n",
       "</table>\n",
       "</div>"
      ],
      "text/plain": [
       "    Time  Temperature\n",
       "0    130          190\n",
       "1    174          176\n",
       "2    134          205\n",
       "3    191          210\n",
       "4    165          230\n",
       "5    194          192\n",
       "6    143          220\n",
       "7    186          235\n",
       "8    139          240\n",
       "9    188          230\n",
       "10   175          200\n",
       "11   156          218\n",
       "12   190          220\n",
       "13   178          210\n",
       "14   132          208\n",
       "15   148          225"
      ]
     },
     "execution_count": 61,
     "metadata": {},
     "output_type": "execute_result"
    }
   ],
   "source": [
    "#name all the independent variables and avoid the dependent variable, which we have to find\n",
    "x = mydata.iloc[:,0:2]\n",
    "x"
   ]
  },
  {
   "cell_type": "code",
   "execution_count": 62,
   "id": "6ae55357-e81f-4222-98e2-c37459daae08",
   "metadata": {
    "tags": []
   },
   "outputs": [
    {
     "data": {
      "text/plain": [
       "0     35.0\n",
       "1     81.7\n",
       "2     42.5\n",
       "3     98.3\n",
       "4     52.7\n",
       "5     82.0\n",
       "6     34.5\n",
       "7     95.4\n",
       "8     56.7\n",
       "9     84.4\n",
       "10    94.3\n",
       "11    44.3\n",
       "12    83.3\n",
       "13    91.4\n",
       "14    43.5\n",
       "15    51.7\n",
       "Name: Yield, dtype: float64"
      ]
     },
     "execution_count": 62,
     "metadata": {},
     "output_type": "execute_result"
    }
   ],
   "source": [
    "#retrieveing the dependent variable\n",
    "y = mydata.Yield\n",
    "y"
   ]
  },
  {
   "cell_type": "code",
   "execution_count": 63,
   "id": "81af42cc-f415-4264-a28e-82d3faeb9ce4",
   "metadata": {
    "tags": []
   },
   "outputs": [
    {
     "data": {
      "text/plain": [
       "<seaborn.axisgrid.PairGrid at 0x1a6baae0950>"
      ]
     },
     "execution_count": 63,
     "metadata": {},
     "output_type": "execute_result"
    },
    {
     "data": {
      "image/png": "[encoded data removed]",
      "text/plain": [
       "<Figure size 750x750 with 12 Axes>"
      ]
     },
     "metadata": {},
     "output_type": "display_data"
    }
   ],
   "source": [
    "#exploring the data\n",
    "plotting = mysb.pairplot(mydata)\n",
    "plotting"
   ]
  },
  {
   "cell_type": "code",
   "execution_count": 64,
   "id": "3af67a07-204b-4c8e-b9cb-949203540136",
   "metadata": {
    "tags": []
   },
   "outputs": [
    {
     "data": {
      "text/html": [
       "<style>#sk-container-id-3 {color: black;background-color: white;}#sk-container-id-3 pre{padding: 0;}#sk-container-id-3 div.sk-toggleable {background-color: white;}#sk-container-id-3 label.sk-toggleable__label {cursor: pointer;display: block;width: 100%;margin-bottom: 0;padding: 0.3em;box-sizing: border-box;text-align: center;}#sk-container-id-3 label.sk-toggleable__label-arrow:before {content: \"▸\";float: left;margin-right: 0.25em;color: #696969;}#sk-container-id-3 label.sk-toggleable__label-arrow:hover:before {color: black;}#sk-container-id-3 div.sk-estimator:hover label.sk-toggleable__label-arrow:before {color: black;}#sk-container-id-3 div.sk-toggleable__content {max-height: 0;max-width: 0;overflow: hidden;text-align: left;background-color: #f0f8ff;}#sk-container-id-3 div.sk-toggleable__content pre {margin: 0.2em;color: black;border-radius: 0.25em;background-color: #f0f8ff;}#sk-container-id-3 input.sk-toggleable__control:checked~div.sk-toggleable__content {max-height: 200px;max-width: 100%;overflow: auto;}#sk-container-id-3 input.sk-toggleable__control:checked~label.sk-toggleable__label-arrow:before {content: \"▾\";}#sk-container-id-3 div.sk-estimator input.sk-toggleable__control:checked~label.sk-toggleable__label {background-color: #d4ebff;}#sk-container-id-3 div.sk-label input.sk-toggleable__control:checked~label.sk-toggleable__label {background-color: #d4ebff;}#sk-container-id-3 input.sk-hidden--visually {border: 0;clip: rect(1px 1px 1px 1px);clip: rect(1px, 1px, 1px, 1px);height: 1px;margin: -1px;overflow: hidden;padding: 0;position: absolute;width: 1px;}#sk-container-id-3 div.sk-estimator {font-family: monospace;background-color: #f0f8ff;border: 1px dotted black;border-radius: 0.25em;box-sizing: border-box;margin-bottom: 0.5em;}#sk-container-id-3 div.sk-estimator:hover {background-color: #d4ebff;}#sk-container-id-3 div.sk-parallel-item::after {content: \"\";width: 100%;border-bottom: 1px solid gray;flex-grow: 1;}#sk-container-id-3 div.sk-label:hover label.sk-toggleable__label {background-color: #d4ebff;}#sk-container-id-3 div.sk-serial::before {content: \"\";position: absolute;border-left: 1px solid gray;box-sizing: border-box;top: 0;bottom: 0;left: 50%;z-index: 0;}#sk-container-id-3 div.sk-serial {display: flex;flex-direction: column;align-items: center;background-color: white;padding-right: 0.2em;padding-left: 0.2em;position: relative;}#sk-container-id-3 div.sk-item {position: relative;z-index: 1;}#sk-container-id-3 div.sk-parallel {display: flex;align-items: stretch;justify-content: center;background-color: white;position: relative;}#sk-container-id-3 div.sk-item::before, #sk-container-id-3 div.sk-parallel-item::before {content: \"\";position: absolute;border-left: 1px solid gray;box-sizing: border-box;top: 0;bottom: 0;left: 50%;z-index: -1;}#sk-container-id-3 div.sk-parallel-item {display: flex;flex-direction: column;z-index: 1;position: relative;background-color: white;}#sk-container-id-3 div.sk-parallel-item:first-child::after {align-self: flex-end;width: 50%;}#sk-container-id-3 div.sk-parallel-item:last-child::after {align-self: flex-start;width: 50%;}#sk-container-id-3 div.sk-parallel-item:only-child::after {width: 0;}#sk-container-id-3 div.sk-dashed-wrapped {border: 1px dashed gray;margin: 0 0.4em 0.5em 0.4em;box-sizing: border-box;padding-bottom: 0.4em;background-color: white;}#sk-container-id-3 div.sk-label label {font-family: monospace;font-weight: bold;display: inline-block;line-height: 1.2em;}#sk-container-id-3 div.sk-label-container {text-align: center;}#sk-container-id-3 div.sk-container {/* jupyter's `normalize.less` sets `[hidden] { display: none; }` but bootstrap.min.css set `[hidden] { display: none !important; }` so we also need the `!important` here to be able to override the default hidden behavior on the sphinx rendered scikit-learn.org. See: https://github.com/scikit-learn/scikit-learn/issues/21755 */display: inline-block !important;position: relative;}#sk-container-id-3 div.sk-text-repr-fallback {display: none;}</style><div id=\"sk-container-id-3\" class=\"sk-top-container\"><div class=\"sk-text-repr-fallback\"><pre>LinearRegression()</pre><b>In a Jupyter environment, please rerun this cell to show the HTML representation or trust the notebook. <br />On GitHub, the HTML representation is unable to render, please try loading this page with nbviewer.org.</b></div><div class=\"sk-container\" hidden><div class=\"sk-item\"><div class=\"sk-estimator sk-toggleable\"><input class=\"sk-toggleable__control sk-hidden--visually\" id=\"sk-estimator-id-3\" type=\"checkbox\" checked><label for=\"sk-estimator-id-3\" class=\"sk-toggleable__label sk-toggleable__label-arrow\">LinearRegression</label><div class=\"sk-toggleable__content\"><pre>LinearRegression()</pre></div></div></div></div></div>"
      ],
      "text/plain": [
       "LinearRegression()"
      ]
     },
     "execution_count": 64,
     "metadata": {},
     "output_type": "execute_result"
    }
   ],
   "source": [
    "#regressiong modelling \n",
    "mymodel = LinearRegression()\n",
    "mymodel"
   ]
  },
  {
   "cell_type": "code",
   "execution_count": 65,
   "id": "5f6cf15a-3c9a-4eb0-9ba9-0bf666321311",
   "metadata": {
    "tags": []
   },
   "outputs": [
    {
     "data": {
      "text/html": [
       "<style>#sk-container-id-4 {color: black;background-color: white;}#sk-container-id-4 pre{padding: 0;}#sk-container-id-4 div.sk-toggleable {background-color: white;}#sk-container-id-4 label.sk-toggleable__label {cursor: pointer;display: block;width: 100%;margin-bottom: 0;padding: 0.3em;box-sizing: border-box;text-align: center;}#sk-container-id-4 label.sk-toggleable__label-arrow:before {content: \"▸\";float: left;margin-right: 0.25em;color: #696969;}#sk-container-id-4 label.sk-toggleable__label-arrow:hover:before {color: black;}#sk-container-id-4 div.sk-estimator:hover label.sk-toggleable__label-arrow:before {color: black;}#sk-container-id-4 div.sk-toggleable__content {max-height: 0;max-width: 0;overflow: hidden;text-align: left;background-color: #f0f8ff;}#sk-container-id-4 div.sk-toggleable__content pre {margin: 0.2em;color: black;border-radius: 0.25em;background-color: #f0f8ff;}#sk-container-id-4 input.sk-toggleable__control:checked~div.sk-toggleable__content {max-height: 200px;max-width: 100%;overflow: auto;}#sk-container-id-4 input.sk-toggleable__control:checked~label.sk-toggleable__label-arrow:before {content: \"▾\";}#sk-container-id-4 div.sk-estimator input.sk-toggleable__control:checked~label.sk-toggleable__label {background-color: #d4ebff;}#sk-container-id-4 div.sk-label input.sk-toggleable__control:checked~label.sk-toggleable__label {background-color: #d4ebff;}#sk-container-id-4 input.sk-hidden--visually {border: 0;clip: rect(1px 1px 1px 1px);clip: rect(1px, 1px, 1px, 1px);height: 1px;margin: -1px;overflow: hidden;padding: 0;position: absolute;width: 1px;}#sk-container-id-4 div.sk-estimator {font-family: monospace;background-color: #f0f8ff;border: 1px dotted black;border-radius: 0.25em;box-sizing: border-box;margin-bottom: 0.5em;}#sk-container-id-4 div.sk-estimator:hover {background-color: #d4ebff;}#sk-container-id-4 div.sk-parallel-item::after {content: \"\";width: 100%;border-bottom: 1px solid gray;flex-grow: 1;}#sk-container-id-4 div.sk-label:hover label.sk-toggleable__label {background-color: #d4ebff;}#sk-container-id-4 div.sk-serial::before {content: \"\";position: absolute;border-left: 1px solid gray;box-sizing: border-box;top: 0;bottom: 0;left: 50%;z-index: 0;}#sk-container-id-4 div.sk-serial {display: flex;flex-direction: column;align-items: center;background-color: white;padding-right: 0.2em;padding-left: 0.2em;position: relative;}#sk-container-id-4 div.sk-item {position: relative;z-index: 1;}#sk-container-id-4 div.sk-parallel {display: flex;align-items: stretch;justify-content: center;background-color: white;position: relative;}#sk-container-id-4 div.sk-item::before, #sk-container-id-4 div.sk-parallel-item::before {content: \"\";position: absolute;border-left: 1px solid gray;box-sizing: border-box;top: 0;bottom: 0;left: 50%;z-index: -1;}#sk-container-id-4 div.sk-parallel-item {display: flex;flex-direction: column;z-index: 1;position: relative;background-color: white;}#sk-container-id-4 div.sk-parallel-item:first-child::after {align-self: flex-end;width: 50%;}#sk-container-id-4 div.sk-parallel-item:last-child::after {align-self: flex-start;width: 50%;}#sk-container-id-4 div.sk-parallel-item:only-child::after {width: 0;}#sk-container-id-4 div.sk-dashed-wrapped {border: 1px dashed gray;margin: 0 0.4em 0.5em 0.4em;box-sizing: border-box;padding-bottom: 0.4em;background-color: white;}#sk-container-id-4 div.sk-label label {font-family: monospace;font-weight: bold;display: inline-block;line-height: 1.2em;}#sk-container-id-4 div.sk-label-container {text-align: center;}#sk-container-id-4 div.sk-container {/* jupyter's `normalize.less` sets `[hidden] { display: none; }` but bootstrap.min.css set `[hidden] { display: none !important; }` so we also need the `!important` here to be able to override the default hidden behavior on the sphinx rendered scikit-learn.org. See: https://github.com/scikit-learn/scikit-learn/issues/21755 */display: inline-block !important;position: relative;}#sk-container-id-4 div.sk-text-repr-fallback {display: none;}</style><div id=\"sk-container-id-4\" class=\"sk-top-container\"><div class=\"sk-text-repr-fallback\"><pre>LinearRegression()</pre><b>In a Jupyter environment, please rerun this cell to show the HTML representation or trust the notebook. <br />On GitHub, the HTML representation is unable to render, please try loading this page with nbviewer.org.</b></div><div class=\"sk-container\" hidden><div class=\"sk-item\"><div class=\"sk-estimator sk-toggleable\"><input class=\"sk-toggleable__control sk-hidden--visually\" id=\"sk-estimator-id-4\" type=\"checkbox\" checked><label for=\"sk-estimator-id-4\" class=\"sk-toggleable__label sk-toggleable__label-arrow\">LinearRegression</label><div class=\"sk-toggleable__content\"><pre>LinearRegression()</pre></div></div></div></div></div>"
      ],
      "text/plain": [
       "LinearRegression()"
      ]
     },
     "execution_count": 65,
     "metadata": {},
     "output_type": "execute_result"
    }
   ],
   "source": [
    "mymodel = mymodel.fit(x,y)\n",
    "mymodel"
   ]
  },
  {
   "cell_type": "code",
   "execution_count": 66,
   "id": "0549a1f9-3203-4417-80b5-dbce0552580b",
   "metadata": {
    "tags": []
   },
   "outputs": [
    {
     "name": "stdout",
     "output_type": "stream",
     "text": [
      "[ 0.90608862 -0.06418911]\n",
      "-67.8843597036845\n"
     ]
    }
   ],
   "source": [
    "# to get the coefficients of the equation of linear regression \n",
    "coeff = mymodel.coef_\n",
    "intercept = mymodel.intercept_\n",
    "print(coeff)\n",
    "print(intercept)"
   ]
  },
  {
   "cell_type": "code",
   "execution_count": 67,
   "id": "41d44701-ab77-40f5-ab7b-5541006e6354",
   "metadata": {},
   "outputs": [
    {
     "data": {
      "text/plain": [
       "80.64"
      ]
     },
     "execution_count": 67,
     "metadata": {},
     "output_type": "execute_result"
    }
   ],
   "source": [
    "# Model accuracy-R Square value\n",
    "rsq = mymodel.score(x,y)\n",
    "rsq\n",
    "round(rsq*100,2)"
   ]
  },
  {
   "cell_type": "code",
   "execution_count": 68,
   "id": "4d7c7829-63b5-4c05-9faa-dc40ba99b5ac",
   "metadata": {
    "tags": []
   },
   "outputs": [
    {
     "data": {
      "text/plain": [
       "array([37.71122898, 78.47777573, 40.37274675, 91.69885237, 66.85676605,\n",
       "       95.57252226, 47.5647076 , 85.56368144, 42.65657086, 87.69680424,\n",
       "       77.84332562, 59.47223785, 90.15087261, 79.91970034, 38.36800217,\n",
       "       51.77420512])"
      ]
     },
     "execution_count": 68,
     "metadata": {},
     "output_type": "execute_result"
    }
   ],
   "source": [
    "#predictedvalue\n",
    "pred = mymodel.predict(x)\n",
    "pred"
   ]
  },
  {
   "cell_type": "code",
   "execution_count": 69,
   "id": "0b111c54-e694-4470-9845-71571ec9575b",
   "metadata": {
    "tags": []
   },
   "outputs": [
    {
     "data": {
      "text/plain": [
       "102.00508614219636"
      ]
     },
     "execution_count": 69,
     "metadata": {},
     "output_type": "execute_result"
    }
   ],
   "source": [
    "#error detection, mean square error\n",
    "mse = mean_squared_error(y, pred)\n",
    "mse"
   ]
  },
  {
   "cell_type": "code",
   "execution_count": 70,
   "id": "1a7ef289-65bc-4e86-848a-640fb9206fcb",
   "metadata": {
    "tags": []
   },
   "outputs": [
    {
     "data": {
      "text/plain": [
       "10.099756736783137"
      ]
     },
     "execution_count": 70,
     "metadata": {},
     "output_type": "execute_result"
    }
   ],
   "source": [
    "#root mean square value for error\n",
    "import math as mymath\n",
    "rmse = mymath.sqrt(mse)\n",
    "rmse"
   ]
  },
  {
   "cell_type": "code",
   "execution_count": 71,
   "id": "948c68f3-859f-4536-92c2-6c3c1fe97ca2",
   "metadata": {
    "tags": []
   },
   "outputs": [
    {
     "data": {
      "text/plain": [
       "0     -2.711229\n",
       "1      3.222224\n",
       "2      2.127253\n",
       "3      6.601148\n",
       "4    -14.156766\n",
       "5    -13.572522\n",
       "6    -13.064708\n",
       "7      9.836319\n",
       "8     14.043429\n",
       "9     -3.296804\n",
       "10    16.456674\n",
       "11   -15.172238\n",
       "12    -6.850873\n",
       "13    11.480300\n",
       "14     5.131998\n",
       "15    -0.074205\n",
       "Name: Yield, dtype: float64"
      ]
     },
     "execution_count": 71,
     "metadata": {},
     "output_type": "execute_result"
    }
   ],
   "source": [
    "# Residual Analysis\n",
    "res = y-pred\n",
    "res"
   ]
  },
  {
   "cell_type": "code",
   "execution_count": 72,
   "id": "33bb79c3-b2f1-462a-a1de-4a6aaa9496d0",
   "metadata": {
    "tags": []
   },
   "outputs": [
    {
     "data": {
      "text/html": [
       "<div>\n",
       "<style scoped>\n",
       "    .dataframe tbody tr th:only-of-type {\n",
       "        vertical-align: middle;\n",
       "    }\n",
       "\n",
       "    .dataframe tbody tr th {\n",
       "        vertical-align: top;\n",
       "    }\n",
       "\n",
       "    .dataframe thead th {\n",
       "        text-align: right;\n",
       "    }\n",
       "</style>\n",
       "<table border=\"1\" class=\"dataframe\">\n",
       "  <thead>\n",
       "    <tr style=\"text-align: right;\">\n",
       "      <th></th>\n",
       "      <th>Predicted</th>\n",
       "    </tr>\n",
       "  </thead>\n",
       "  <tbody>\n",
       "    <tr>\n",
       "      <th>0</th>\n",
       "      <td>37.711229</td>\n",
       "    </tr>\n",
       "    <tr>\n",
       "      <th>1</th>\n",
       "      <td>78.477776</td>\n",
       "    </tr>\n",
       "    <tr>\n",
       "      <th>2</th>\n",
       "      <td>40.372747</td>\n",
       "    </tr>\n",
       "    <tr>\n",
       "      <th>3</th>\n",
       "      <td>91.698852</td>\n",
       "    </tr>\n",
       "    <tr>\n",
       "      <th>4</th>\n",
       "      <td>66.856766</td>\n",
       "    </tr>\n",
       "    <tr>\n",
       "      <th>5</th>\n",
       "      <td>95.572522</td>\n",
       "    </tr>\n",
       "    <tr>\n",
       "      <th>6</th>\n",
       "      <td>47.564708</td>\n",
       "    </tr>\n",
       "    <tr>\n",
       "      <th>7</th>\n",
       "      <td>85.563681</td>\n",
       "    </tr>\n",
       "    <tr>\n",
       "      <th>8</th>\n",
       "      <td>42.656571</td>\n",
       "    </tr>\n",
       "    <tr>\n",
       "      <th>9</th>\n",
       "      <td>87.696804</td>\n",
       "    </tr>\n",
       "    <tr>\n",
       "      <th>10</th>\n",
       "      <td>77.843326</td>\n",
       "    </tr>\n",
       "    <tr>\n",
       "      <th>11</th>\n",
       "      <td>59.472238</td>\n",
       "    </tr>\n",
       "    <tr>\n",
       "      <th>12</th>\n",
       "      <td>90.150873</td>\n",
       "    </tr>\n",
       "    <tr>\n",
       "      <th>13</th>\n",
       "      <td>79.919700</td>\n",
       "    </tr>\n",
       "    <tr>\n",
       "      <th>14</th>\n",
       "      <td>38.368002</td>\n",
       "    </tr>\n",
       "    <tr>\n",
       "      <th>15</th>\n",
       "      <td>51.774205</td>\n",
       "    </tr>\n",
       "  </tbody>\n",
       "</table>\n",
       "</div>"
      ],
      "text/plain": [
       "    Predicted\n",
       "0   37.711229\n",
       "1   78.477776\n",
       "2   40.372747\n",
       "3   91.698852\n",
       "4   66.856766\n",
       "5   95.572522\n",
       "6   47.564708\n",
       "7   85.563681\n",
       "8   42.656571\n",
       "9   87.696804\n",
       "10  77.843326\n",
       "11  59.472238\n",
       "12  90.150873\n",
       "13  79.919700\n",
       "14  38.368002\n",
       "15  51.774205"
      ]
     },
     "execution_count": 72,
     "metadata": {},
     "output_type": "execute_result"
    }
   ],
   "source": [
    "pred=mypd.DataFrame(pred,columns=['Predicted'])\n",
    "pred"
   ]
  },
  {
   "cell_type": "code",
   "execution_count": 73,
   "id": "04c0aa70-1214-41d8-b1cc-b1d8ffcef6ea",
   "metadata": {
    "tags": []
   },
   "outputs": [
    {
     "data": {
      "text/html": [
       "<div>\n",
       "<style scoped>\n",
       "    .dataframe tbody tr th:only-of-type {\n",
       "        vertical-align: middle;\n",
       "    }\n",
       "\n",
       "    .dataframe tbody tr th {\n",
       "        vertical-align: top;\n",
       "    }\n",
       "\n",
       "    .dataframe thead th {\n",
       "        text-align: right;\n",
       "    }\n",
       "</style>\n",
       "<table border=\"1\" class=\"dataframe\">\n",
       "  <thead>\n",
       "    <tr style=\"text-align: right;\">\n",
       "      <th></th>\n",
       "      <th>Time</th>\n",
       "      <th>Temperature</th>\n",
       "      <th>Yield</th>\n",
       "      <th>Predicted</th>\n",
       "    </tr>\n",
       "  </thead>\n",
       "  <tbody>\n",
       "    <tr>\n",
       "      <th>0</th>\n",
       "      <td>130</td>\n",
       "      <td>190</td>\n",
       "      <td>35.0</td>\n",
       "      <td>37.711229</td>\n",
       "    </tr>\n",
       "    <tr>\n",
       "      <th>1</th>\n",
       "      <td>174</td>\n",
       "      <td>176</td>\n",
       "      <td>81.7</td>\n",
       "      <td>78.477776</td>\n",
       "    </tr>\n",
       "    <tr>\n",
       "      <th>2</th>\n",
       "      <td>134</td>\n",
       "      <td>205</td>\n",
       "      <td>42.5</td>\n",
       "      <td>40.372747</td>\n",
       "    </tr>\n",
       "    <tr>\n",
       "      <th>3</th>\n",
       "      <td>191</td>\n",
       "      <td>210</td>\n",
       "      <td>98.3</td>\n",
       "      <td>91.698852</td>\n",
       "    </tr>\n",
       "    <tr>\n",
       "      <th>4</th>\n",
       "      <td>165</td>\n",
       "      <td>230</td>\n",
       "      <td>52.7</td>\n",
       "      <td>66.856766</td>\n",
       "    </tr>\n",
       "    <tr>\n",
       "      <th>5</th>\n",
       "      <td>194</td>\n",
       "      <td>192</td>\n",
       "      <td>82.0</td>\n",
       "      <td>95.572522</td>\n",
       "    </tr>\n",
       "    <tr>\n",
       "      <th>6</th>\n",
       "      <td>143</td>\n",
       "      <td>220</td>\n",
       "      <td>34.5</td>\n",
       "      <td>47.564708</td>\n",
       "    </tr>\n",
       "    <tr>\n",
       "      <th>7</th>\n",
       "      <td>186</td>\n",
       "      <td>235</td>\n",
       "      <td>95.4</td>\n",
       "      <td>85.563681</td>\n",
       "    </tr>\n",
       "    <tr>\n",
       "      <th>8</th>\n",
       "      <td>139</td>\n",
       "      <td>240</td>\n",
       "      <td>56.7</td>\n",
       "      <td>42.656571</td>\n",
       "    </tr>\n",
       "    <tr>\n",
       "      <th>9</th>\n",
       "      <td>188</td>\n",
       "      <td>230</td>\n",
       "      <td>84.4</td>\n",
       "      <td>87.696804</td>\n",
       "    </tr>\n",
       "    <tr>\n",
       "      <th>10</th>\n",
       "      <td>175</td>\n",
       "      <td>200</td>\n",
       "      <td>94.3</td>\n",
       "      <td>77.843326</td>\n",
       "    </tr>\n",
       "    <tr>\n",
       "      <th>11</th>\n",
       "      <td>156</td>\n",
       "      <td>218</td>\n",
       "      <td>44.3</td>\n",
       "      <td>59.472238</td>\n",
       "    </tr>\n",
       "    <tr>\n",
       "      <th>12</th>\n",
       "      <td>190</td>\n",
       "      <td>220</td>\n",
       "      <td>83.3</td>\n",
       "      <td>90.150873</td>\n",
       "    </tr>\n",
       "    <tr>\n",
       "      <th>13</th>\n",
       "      <td>178</td>\n",
       "      <td>210</td>\n",
       "      <td>91.4</td>\n",
       "      <td>79.919700</td>\n",
       "    </tr>\n",
       "    <tr>\n",
       "      <th>14</th>\n",
       "      <td>132</td>\n",
       "      <td>208</td>\n",
       "      <td>43.5</td>\n",
       "      <td>38.368002</td>\n",
       "    </tr>\n",
       "    <tr>\n",
       "      <th>15</th>\n",
       "      <td>148</td>\n",
       "      <td>225</td>\n",
       "      <td>51.7</td>\n",
       "      <td>51.774205</td>\n",
       "    </tr>\n",
       "  </tbody>\n",
       "</table>\n",
       "</div>"
      ],
      "text/plain": [
       "    Time  Temperature  Yield  Predicted\n",
       "0    130          190   35.0  37.711229\n",
       "1    174          176   81.7  78.477776\n",
       "2    134          205   42.5  40.372747\n",
       "3    191          210   98.3  91.698852\n",
       "4    165          230   52.7  66.856766\n",
       "5    194          192   82.0  95.572522\n",
       "6    143          220   34.5  47.564708\n",
       "7    186          235   95.4  85.563681\n",
       "8    139          240   56.7  42.656571\n",
       "9    188          230   84.4  87.696804\n",
       "10   175          200   94.3  77.843326\n",
       "11   156          218   44.3  59.472238\n",
       "12   190          220   83.3  90.150873\n",
       "13   178          210   91.4  79.919700\n",
       "14   132          208   43.5  38.368002\n",
       "15   148          225   51.7  51.774205"
      ]
     },
     "execution_count": 73,
     "metadata": {},
     "output_type": "execute_result"
    }
   ],
   "source": [
    "myresult=mydata.join(pred)\n",
    "myresult"
   ]
  },
  {
   "cell_type": "code",
   "execution_count": 74,
   "id": "846b7f7b-ef4d-4e8c-b92e-1321f207343c",
   "metadata": {
    "tags": []
   },
   "outputs": [
    {
     "name": "stdin",
     "output_type": "stream",
     "text": [
      "enter time:  50\n",
      "enter temp:  120\n"
     ]
    },
    {
     "name": "stdout",
     "output_type": "stream",
     "text": [
      "Yield =  -30.282622458165505\n"
     ]
    }
   ],
   "source": [
    "time = int(input('enter time: '))\n",
    "temp = int(input('enter temp: '))\n",
    "# print(intercept)\n",
    "print(\"Yield = \",intercept + coeff[0]*time + coeff[1]*temp)"
   ]
  },
  {
   "cell_type": "code",
   "execution_count": 75,
   "id": "9958ef3a-00e8-4786-812a-c5c0ab9eb756",
   "metadata": {
    "tags": []
   },
   "outputs": [
    {
     "data": {
      "image/png": "[encoded data removed]",
      "text/plain": [
       "<Figure size 640x480 with 1 Axes>"
      ]
     },
     "metadata": {},
     "output_type": "display_data"
    }
   ],
   "source": [
    "# mymodel.summary()\n",
    "# Normality test using pp plot, plotting original and expected value\n",
    "#Residual Analysis – Actual Vs Predicted Plot\n",
    "plt.scatter(y, pred)\n",
    "plt.title(\"Actual vs Predicted Plot\")\n",
    "plt.xlabel(\"Actual Yield\")\n",
    "plt.ylabel(\"Predicted yield\")\n",
    "plt.show()"
   ]
  },
  {
   "cell_type": "markdown",
   "id": "6fc81dce-6fe5-4253-bd8a-a6634ea4148a",
   "metadata": {},
   "source": [
    "# Logistical Regression\n",
    "- It is based on a function called sigmoid function \n",
    "- k(z) = 1/(1+e^(-z)) called as sigmoid as z\n",
    "- If z is -infinity, we get k(z) = 0 \n",
    "- If z is infinity, we get k(z) = 1\n",
    "- Here prediction is based on probability \n",
    "- Deep learning basics can be considered as \n",
    "    - linear + logistic regression \n",
    "- After putting all the independent variables, the outcome would probably be yes/no\n",
    "- If a user will pay for an app or not, We can take logistic Regression by taking appropriate inputs like age, income, gender\n",
    "- By taking temperature, pressure, sunlight etc, we can predict it will rain or not \n",
    "- by taking inputs x1,x2,x3,... we can predict whether we will happy or not\n",
    "- If we have only two classes, then binomial logistic regression\n",
    "- If we have more than two output class, then it is Multinomial Logistic regression\n",
    "- If we have a ranking of output classes like agree, neutral, disagree, strongly disagree, we use ordinary logistic regression\n",
    "\n",
    "## Performance metrics in Classification problems \n",
    "\n",
    "- Accuracy \n",
    "- Confusion Metrics\n",
    "- Precision \n",
    "- Recall\n",
    "- f1 measure\n",
    "- Sensitivity \n",
    "- Specificity\n",
    "## Accuracy \n",
    "- (TP + TN)/(TP + TN + FP + FN)\n",
    "## Precision\n",
    "- (TP) / TP + FP\n",
    "## Recall / Sensitivity\n",
    "- check pdf\n",
    "## Confusion Metrics\n",
    "- check pdf\n",
    "\n",
    "# Logit function \n",
    "- f(x) = log(x/(1-x)) = log(p/(1-p)) = log(odds) //google odds function in probability \n",
    "- logit and sigmoid function is the inverse of each other, for example, take the above equation in terms of x by taking e^.. or 10^...\n"
   ]
  },
  {
   "attachments": {
    "b6ae877a-e4ad-4454-817c-d4e923bd8f72.jpg": {
     "image/jpeg": "[encoded data removed]"
    }
   },
   "cell_type": "markdown",
   "id": "80c468a2-1570-431f-8084-1385bc4e7b7b",
   "metadata": {},
   "source": [
    "Question]\n",
    "![WhatsApp Image 2023-04-26 at 14.41.44.jpg](attachment:b6ae877a-e4ad-4454-817c-d4e923bd8f72.jpg)"
   ]
  },
  {
   "cell_type": "code",
   "execution_count": 76,
   "id": "3bbc0934-0881-435f-9325-35201d8c91d5",
   "metadata": {
    "tags": []
   },
   "outputs": [],
   "source": [
    "from sklearn.linear_model import LogisticRegression\n",
    "from sklearn.metrics import confusion_matrix\n",
    "from sklearn.metrics import classification_report"
   ]
  },
  {
   "cell_type": "code",
   "execution_count": 77,
   "id": "fe021fe6-3eca-4e12-a9bd-9e0c3e394eca",
   "metadata": {
    "tags": []
   },
   "outputs": [
    {
     "data": {
      "text/html": [
       "<div>\n",
       "<style scoped>\n",
       "    .dataframe tbody tr th:only-of-type {\n",
       "        vertical-align: middle;\n",
       "    }\n",
       "\n",
       "    .dataframe tbody tr th {\n",
       "        vertical-align: top;\n",
       "    }\n",
       "\n",
       "    .dataframe thead th {\n",
       "        text-align: right;\n",
       "    }\n",
       "</style>\n",
       "<table border=\"1\" class=\"dataframe\">\n",
       "  <thead>\n",
       "    <tr style=\"text-align: right;\">\n",
       "      <th></th>\n",
       "      <th>Ind_Exp_Act_Score</th>\n",
       "      <th>Tran_Speed_Score</th>\n",
       "      <th>Peer_Comb_Score</th>\n",
       "      <th>Outcome</th>\n",
       "    </tr>\n",
       "  </thead>\n",
       "  <tbody>\n",
       "    <tr>\n",
       "      <th>0</th>\n",
       "      <td>6.2</td>\n",
       "      <td>9.3</td>\n",
       "      <td>7.4</td>\n",
       "      <td>1</td>\n",
       "    </tr>\n",
       "    <tr>\n",
       "      <th>1</th>\n",
       "      <td>2.6</td>\n",
       "      <td>2.2</td>\n",
       "      <td>8.7</td>\n",
       "      <td>1</td>\n",
       "    </tr>\n",
       "    <tr>\n",
       "      <th>2</th>\n",
       "      <td>9.5</td>\n",
       "      <td>1.5</td>\n",
       "      <td>8.2</td>\n",
       "      <td>1</td>\n",
       "    </tr>\n",
       "    <tr>\n",
       "      <th>3</th>\n",
       "      <td>2.6</td>\n",
       "      <td>5.0</td>\n",
       "      <td>0.4</td>\n",
       "      <td>0</td>\n",
       "    </tr>\n",
       "    <tr>\n",
       "      <th>4</th>\n",
       "      <td>10.0</td>\n",
       "      <td>7.7</td>\n",
       "      <td>7.2</td>\n",
       "      <td>1</td>\n",
       "    </tr>\n",
       "    <tr>\n",
       "      <th>...</th>\n",
       "      <td>...</td>\n",
       "      <td>...</td>\n",
       "      <td>...</td>\n",
       "      <td>...</td>\n",
       "    </tr>\n",
       "    <tr>\n",
       "      <th>975</th>\n",
       "      <td>6.7</td>\n",
       "      <td>2.7</td>\n",
       "      <td>1.8</td>\n",
       "      <td>0</td>\n",
       "    </tr>\n",
       "    <tr>\n",
       "      <th>976</th>\n",
       "      <td>8.3</td>\n",
       "      <td>9.7</td>\n",
       "      <td>5.6</td>\n",
       "      <td>1</td>\n",
       "    </tr>\n",
       "    <tr>\n",
       "      <th>977</th>\n",
       "      <td>2.3</td>\n",
       "      <td>0.7</td>\n",
       "      <td>5.5</td>\n",
       "      <td>0</td>\n",
       "    </tr>\n",
       "    <tr>\n",
       "      <th>978</th>\n",
       "      <td>0.9</td>\n",
       "      <td>4.8</td>\n",
       "      <td>3.0</td>\n",
       "      <td>0</td>\n",
       "    </tr>\n",
       "    <tr>\n",
       "      <th>979</th>\n",
       "      <td>2.5</td>\n",
       "      <td>0.0</td>\n",
       "      <td>7.4</td>\n",
       "      <td>0</td>\n",
       "    </tr>\n",
       "  </tbody>\n",
       "</table>\n",
       "<p>980 rows × 4 columns</p>\n",
       "</div>"
      ],
      "text/plain": [
       "     Ind_Exp_Act_Score  Tran_Speed_Score  Peer_Comb_Score  Outcome\n",
       "0                  6.2               9.3              7.4        1\n",
       "1                  2.6               2.2              8.7        1\n",
       "2                  9.5               1.5              8.2        1\n",
       "3                  2.6               5.0              0.4        0\n",
       "4                 10.0               7.7              7.2        1\n",
       "..                 ...               ...              ...      ...\n",
       "975                6.7               2.7              1.8        0\n",
       "976                8.3               9.7              5.6        1\n",
       "977                2.3               0.7              5.5        0\n",
       "978                0.9               4.8              3.0        0\n",
       "979                2.5               0.0              7.4        0\n",
       "\n",
       "[980 rows x 4 columns]"
      ]
     },
     "execution_count": 77,
     "metadata": {},
     "output_type": "execute_result"
    }
   ],
   "source": [
    "mydata_reg = mypd.read_csv(\"Logistic_reg.csv\")\n",
    "mydata_reg"
   ]
  },
  {
   "cell_type": "code",
   "execution_count": null,
   "id": "92dc3331-fe28-45be-be0c-fb800a7d66a9",
   "metadata": {},
   "outputs": [],
   "source": []
  }
 ],
 "metadata": {
  "kernelspec": {
   "display_name": "Python 3 (ipykernel)",
   "language": "python",
   "name": "python3"
  },
  "language_info": {
   "codemirror_mode": {
    "name": "ipython",
    "version": 3
   },
   "file_extension": ".py",
   "mimetype": "text/x-python",
   "name": "python",
   "nbconvert_exporter": "python",
   "pygments_lexer": "ipython3",
   "version": "3.11.2"
  }
 },
 "nbformat": 4,
 "nbformat_minor": 5
}
